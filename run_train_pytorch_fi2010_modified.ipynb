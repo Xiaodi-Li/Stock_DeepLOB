{
 "cells": [
  {
   "cell_type": "code",
   "execution_count": 39,
   "id": "428ce98e",
   "metadata": {},
   "outputs": [
    {
     "name": "stdout",
     "output_type": "stream",
     "text": [
      "Requirement already satisfied: tqdm in /Users/lydiali/opt/anaconda3/envs/stock/lib/python3.11/site-packages (4.67.1)\n",
      "Requirement already satisfied: torchinfo in /Users/lydiali/opt/anaconda3/envs/stock/lib/python3.11/site-packages (1.8.0)\n"
     ]
    },
    {
     "name": "stderr",
     "output_type": "stream",
     "text": [
      "100%|█████████| 1183/1183 [15:22<00:00,  1.28it/s]\n"
     ]
    },
    {
     "name": "stdout",
     "output_type": "stream",
     "text": [
      "Processed dataset shape: (1089, 72)\n"
     ]
    }
   ],
   "source": [
    "\n",
    "!pip install tqdm\n",
    "!pip install torchinfo\n",
    "import pandas as pd\n",
    "import pickle\n",
    "import numpy as np\n",
    "import matplotlib.pyplot as plt\n",
    "from datetime import datetime\n",
    "from tqdm import tqdm \n",
    "from sklearn.metrics import accuracy_score, classification_report\n",
    "\n",
    "import torch\n",
    "import torch.nn.functional as F\n",
    "from torch.utils import data\n",
    "from torchinfo import summary\n",
    "import torch.nn as nn\n",
    "import torch.optim as optim\n",
    "import json\n",
    "import pandas as pd\n",
    "import numpy as np\n",
    "from sklearn.preprocessing import StandardScaler\n",
    "from datetime import datetime\n",
    "\n",
    "# import json\n",
    "# import pandas as pd\n",
    "# import numpy as np\n",
    "# from sklearn.preprocessing import StandardScaler\n",
    "# from datetime import datetime\n",
    "\n",
    "# === File paths ===\n",
    "snapshot_file = '../../datasets/Cong/BTCUSDT_orderbook_snapshot_2024_04_16-556.json'\n",
    "trade_file = '../../datasets/Cong/BTCUSDT_trade_2024_04_16-886.json'\n",
    "\n",
    "# === Load snapshot data ===\n",
    "with open(snapshot_file, \"r\") as f:\n",
    "    lines = f.readlines()\n",
    "parsed_data = [json.loads(line) for line in lines]\n",
    "\n",
    "snapshots = []\n",
    "for entry in parsed_data:\n",
    "    snapshots.append({\n",
    "        \"lastUpdateId\": entry[\"lastUpdateId\"],\n",
    "        \"asks\": entry.get(\"asks\", []),\n",
    "        \"bids\": entry.get(\"bids\", []),\n",
    "        \"timestamp\": entry.get(\"record_utc_time\")  # Optional: if available\n",
    "    })\n",
    "\n",
    "# === Load trade data ===\n",
    "with open(trade_file, \"r\") as f:\n",
    "    trade_lines = f.readlines()\n",
    "trade_data = [json.loads(line) for line in trade_lines]\n",
    "trade_records = [{\"U\": t[\"U\"], \"u\": t[\"u\"], \"a\": t[\"a\"], \"b\": t[\"b\"]} for t in trade_data]\n",
    "\n",
    "# === Match snapshots to trades and attach trade_price ===\n",
    "matched = []\n",
    "for snap in tqdm(snapshots):\n",
    "    snap_id = snap[\"lastUpdateId\"]\n",
    "    for t in trade_records:\n",
    "        if t[\"U\"] <= snap_id <= t[\"u\"]:\n",
    "            try:\n",
    "                best_ask = float(t[\"a\"][0][0])\n",
    "                best_bid = float(t[\"b\"][0][0])\n",
    "                trade_price = (best_ask + best_bid) / 2\n",
    "            except Exception:\n",
    "                continue\n",
    "            snap[\"trade_price\"] = trade_price\n",
    "            matched.append(snap)\n",
    "            break\n",
    "\n",
    "# === Feature engineering using snapshots ===\n",
    "records = []\n",
    "for snap in matched:\n",
    "    row = {\"timestamp\": snap.get(\"timestamp\")}\n",
    "    asks = sorted([[float(p), float(v)] for p, v in snap[\"asks\"]], key=lambda x: x[0])\n",
    "    bids = sorted([[float(p), float(v)] for p, v in snap[\"bids\"]], key=lambda x: -x[0])\n",
    "\n",
    "    for i in range(10):\n",
    "        row[f'ask_price_{i+1}'] = asks[i][0] if i < len(asks) else None\n",
    "        row[f'ask_volume_{i+1}'] = asks[i][1] if i < len(asks) else None\n",
    "        row[f'bid_price_{i+1}'] = bids[i][0] if i < len(bids) else None\n",
    "        row[f'bid_volume_{i+1}'] = bids[i][1] if i < len(bids) else None\n",
    "\n",
    "    row[\"mid_price\"] = (row[\"ask_price_1\"] + row[\"bid_price_1\"]) / 2\n",
    "    row[\"spread\"] = row[\"ask_price_1\"] - row[\"bid_price_1\"]\n",
    "    row[\"ask_depth\"] = sum([row[f'ask_volume_{j+1}'] for j in range(10) if row[f'ask_volume_{j+1}'] is not None])\n",
    "    row[\"bid_depth\"] = sum([row[f'bid_volume_{j+1}'] for j in range(10) if row[f'bid_volume_{j+1}'] is not None])\n",
    "    row[\"imbalance_5\"] = (\n",
    "        sum([row[f'bid_volume_{j+1}'] for j in range(5)]) -\n",
    "        sum([row[f'ask_volume_{j+1}'] for j in range(5)])\n",
    "    ) / (\n",
    "        sum([row[f'bid_volume_{j+1}'] for j in range(5)]) +\n",
    "        sum([row[f'ask_volume_{j+1}'] for j in range(5)]) + 1e-8\n",
    "    )\n",
    "    row[\"imbalance_10\"] = (\n",
    "        sum([row[f'bid_volume_{j+1}'] for j in range(10)]) -\n",
    "        sum([row[f'ask_volume_{j+1}'] for j in range(10)])\n",
    "    ) / (\n",
    "        sum([row[f'bid_volume_{j+1}'] for j in range(10)]) +\n",
    "        sum([row[f'ask_volume_{j+1}'] for j in range(10)]) + 1e-8\n",
    "    )\n",
    "    row[\"trade_price\"] = snap[\"trade_price\"]\n",
    "    records.append(row)\n",
    "\n",
    "df = pd.DataFrame(records)\n",
    "df = df.dropna(subset=[\"ask_price_1\", \"bid_price_1\", \"trade_price\"]).reset_index(drop=True)\n",
    "\n",
    "# === Normalize features ===\n",
    "price_volume_cols = [col for col in df.columns if col.startswith(('ask_', 'bid_')) or col in [\n",
    "    \"mid_price\", \"spread\", \"ask_depth\", \"bid_depth\", \"imbalance_5\", \"imbalance_10\"\n",
    "]]\n",
    "scaler = StandardScaler()\n",
    "df_norm = pd.DataFrame(scaler.fit_transform(df[price_volume_cols]), columns=price_volume_cols)\n",
    "df_norm[\"trade_price\"] = df[\"trade_price\"]\n",
    "df_norm[\"mid_price_raw\"] = df[\"mid_price\"]\n",
    "df_norm[\"timestamp\"] = pd.to_datetime(df[\"timestamp\"]) if \"timestamp\" in df else pd.NaT\n",
    "\n",
    "# === Step-based labeling using trade price ===\n",
    "step_horizons = [5, 10, 20, 30, 50]\n",
    "epsilon = 0.0001\n",
    "usable_df = df_norm.iloc[:-max(step_horizons)].copy()\n",
    "\n",
    "def label_movement(p_now, p_future):\n",
    "    delta = (p_future - p_now) / p_now\n",
    "    if delta > epsilon:\n",
    "        return 1\n",
    "    elif delta < -epsilon:\n",
    "        return 3\n",
    "    else:\n",
    "        return 2\n",
    "\n",
    "for h in step_horizons:\n",
    "    future_price = df_norm[\"trade_price\"].shift(-h)\n",
    "    usable_df[f\"label_{h}\"] = [\n",
    "        label_movement(p, f) if pd.notna(f) else np.nan\n",
    "        for p, f in zip(usable_df[\"trade_price\"], future_price)\n",
    "    ]\n",
    "\n",
    "label_cols = [f\"label_{h}\" for h in step_horizons]\n",
    "final_df = usable_df.dropna(subset=label_cols).reset_index(drop=True)\n",
    "\n",
    "# === Coin Context Vector ===\n",
    "df['log_return'] = np.log(df['mid_price']).diff()\n",
    "coin_context = {\n",
    "    \"tick_size\": 0.01,\n",
    "    \"spread_median\": df['spread'].median(),\n",
    "    \"spread_std\": df['spread'].std(),\n",
    "    \"ask_depth_mean\": df['ask_depth'].mean(),\n",
    "    \"ask_depth_std\": df['ask_depth'].std(),\n",
    "    \"bid_depth_mean\": df['bid_depth'].mean(),\n",
    "    \"bid_depth_std\": df['bid_depth'].std(),\n",
    "    \"imbalance_5_mean\": df['imbalance_5'].mean(),\n",
    "    \"imbalance_5_std\": df['imbalance_5'].std(),\n",
    "}\n",
    "\n",
    "for h in step_horizons:\n",
    "    coin_context[f\"realized_vol_{h}\"] = df['log_return'].rolling(window=h).std().mean()\n",
    "    coin_context[f\"price_range_{h}\"] = (df['mid_price'].rolling(window=h).max() - df['mid_price'].rolling(window=h).min()).mean()\n",
    "\n",
    "coin_context_df = pd.DataFrame([coin_context])\n",
    "context_scaler = StandardScaler()\n",
    "context_numeric = coin_context_df.select_dtypes(include=[np.number])\n",
    "context_normalized = pd.DataFrame(\n",
    "    context_scaler.fit_transform(context_numeric),\n",
    "    columns=context_numeric.columns\n",
    ")\n",
    "\n",
    "# === Merge context with final_df ===\n",
    "context_broadcast = pd.concat([context_normalized] * len(final_df), ignore_index=True)\n",
    "context_broadcast.index = final_df.index\n",
    "final_df = pd.concat([final_df.drop(columns=label_cols), context_broadcast, final_df[label_cols]], axis=1)\n",
    "\n",
    "final_df = final_df.drop(columns=[\"timestamp\"])\n",
    "\n",
    "# === Done ===\n",
    "# You can now use final_df for training\n",
    "# final_df.to_csv(\"snapshot_trade_labeled_with_context.csv\", index=False)\n",
    "\n",
    "\n",
    "\n",
    "\n",
    "\n",
    "# # === Load JSON snapshot data ===\n",
    "# json_path = '../../datasets/Cong/BTCUSDT_orderbook_snapshot_2024_04_16-556.json'\n",
    "# with open(json_path, \"r\") as f:\n",
    "#     lines = f.readlines()\n",
    "\n",
    "# parsed_data = [json.loads(line) for line in lines]\n",
    "# snapshots = []\n",
    "# for entry in parsed_data:\n",
    "#     snapshots.append({\n",
    "#         \"timestamp\": entry.get(\"record_utc_time\"),\n",
    "#         \"asks\": entry.get(\"asks\", []),\n",
    "#         \"bids\": entry.get(\"bids\", [])\n",
    "#     })\n",
    "\n",
    "# # === Feature Engineering ===\n",
    "# records = []\n",
    "# for snap in snapshots:\n",
    "#     row = {\"timestamp\": snap[\"timestamp\"]}\n",
    "#     asks = sorted([[float(p), float(v)] for p, v in snap[\"asks\"]], key=lambda x: x[0])\n",
    "#     bids = sorted([[float(p), float(v)] for p, v in snap[\"bids\"]], key=lambda x: -x[0])\n",
    "\n",
    "#     for i in range(10):\n",
    "#         row[f'ask_price_{i+1}'] = asks[i][0] if i < len(asks) else None\n",
    "#         row[f'ask_volume_{i+1}'] = asks[i][1] if i < len(asks) else None\n",
    "#         row[f'bid_price_{i+1}'] = bids[i][0] if i < len(bids) else None\n",
    "#         row[f'bid_volume_{i+1}'] = bids[i][1] if i < len(bids) else None\n",
    "\n",
    "#     row[\"mid_price\"] = (row[\"ask_price_1\"] + row[\"bid_price_1\"]) / 2\n",
    "#     row[\"spread\"] = row[\"ask_price_1\"] - row[\"bid_price_1\"]\n",
    "#     row[\"ask_depth\"] = sum([row[f'ask_volume_{j+1}'] for j in range(10) if row[f'ask_volume_{j+1}'] is not None])\n",
    "#     row[\"bid_depth\"] = sum([row[f'bid_volume_{j+1}'] for j in range(10) if row[f'bid_volume_{j+1}'] is not None])\n",
    "#     row[\"imbalance_5\"] = (\n",
    "#         sum([row[f'bid_volume_{j+1}'] for j in range(5)]) -\n",
    "#         sum([row[f'ask_volume_{j+1}'] for j in range(5)])\n",
    "#     ) / (\n",
    "#         sum([row[f'bid_volume_{j+1}'] for j in range(5)]) +\n",
    "#         sum([row[f'ask_volume_{j+1}'] for j in range(5)]) + 1e-8\n",
    "#     )\n",
    "#     row[\"imbalance_10\"] = (\n",
    "#         sum([row[f'bid_volume_{j+1}'] for j in range(10)]) -\n",
    "#         sum([row[f'ask_volume_{j+1}'] for j in range(10)])\n",
    "#     ) / (\n",
    "#         sum([row[f'bid_volume_{j+1}'] for j in range(10)]) +\n",
    "#         sum([row[f'ask_volume_{j+1}'] for j in range(10)]) + 1e-8\n",
    "#     )\n",
    "#     records.append(row)\n",
    "\n",
    "# df = pd.DataFrame(records)\n",
    "# df = df.dropna(subset=[\"ask_price_1\", \"bid_price_1\"]).reset_index(drop=True)\n",
    "# df[\"timestamp\"] = pd.to_datetime(df[\"timestamp\"])\n",
    "\n",
    "# # === Normalize numerical features ===\n",
    "# price_volume_cols = [col for col in df.columns if col.startswith(('ask_', 'bid_')) or col in [\n",
    "#     \"mid_price\", \"spread\", \"ask_depth\", \"bid_depth\", \"imbalance_5\", \"imbalance_10\"\n",
    "# ]]\n",
    "# scaler = StandardScaler()\n",
    "# df_norm = pd.DataFrame(scaler.fit_transform(df[price_volume_cols]), columns=price_volume_cols)\n",
    "# df_norm[\"timestamp\"] = df[\"timestamp\"]\n",
    "# df_norm[\"mid_price_raw\"] = df[\"mid_price\"]\n",
    "\n",
    "# # === Step-based Labeling ===\n",
    "# step_horizons = [5, 10, 20, 30, 50]\n",
    "# epsilon = 0.0001\n",
    "\n",
    "# def label_movement(p_now, p_future):\n",
    "#     delta = (p_future - p_now) / p_now\n",
    "#     if delta > epsilon:\n",
    "#         return 1\n",
    "#     elif delta < -epsilon:\n",
    "#         return 3\n",
    "#     else:\n",
    "#         return 2\n",
    "\n",
    "# usable_df = df_norm.iloc[:-max(step_horizons)].copy()\n",
    "# for h in step_horizons:\n",
    "#     future_mid = df_norm[\"mid_price_raw\"].shift(-h)\n",
    "#     usable_df[f\"label_{h}\"] = [\n",
    "#         label_movement(p, f) if pd.notna(f) else np.nan\n",
    "#         for p, f in zip(usable_df[\"mid_price_raw\"], future_mid)\n",
    "#     ]\n",
    "# label_cols = [f\"label_{h}\" for h in step_horizons]\n",
    "# final_df = usable_df.dropna(subset=label_cols).reset_index(drop=True)\n",
    "\n",
    "# # === Coin Context Vector ===\n",
    "# df['log_return'] = np.log(df['mid_price']).diff()\n",
    "# coin_context = {\n",
    "#     \"tick_size\": 0.01,\n",
    "#     # \"exchange\": \"Binance\",\n",
    "#     \"spread_median\": df['spread'].median(),\n",
    "#     \"spread_std\": df['spread'].std(),\n",
    "#     \"ask_depth_mean\": df['ask_depth'].mean(),\n",
    "#     \"ask_depth_std\": df['ask_depth'].std(),\n",
    "#     \"bid_depth_mean\": df['bid_depth'].mean(),›\n",
    "#     \"bid_depth_std\": df['bid_depth'].std(),\n",
    "#     \"imbalance_5_mean\": df['imbalance_5'].mean(),\n",
    "#     \"imbalance_5_std\": df['imbalance_5'].std(),\n",
    "#     # \"update_frequency_sec\": df['timestamp'].diff().dt.total_seconds().dropna().mean(),\n",
    "# }\n",
    "\n",
    "# # Add volatility and price range for each horizon\n",
    "# for h in step_horizons:\n",
    "#     coin_context[f\"realized_vol_{h}\"] = df['log_return'].rolling(window=h).std().mean()\n",
    "#     coin_context[f\"price_range_{h}\"] = (df['mid_price'].rolling(window=h).max() - df['mid_price'].rolling(window=h).min()).mean()\n",
    "\n",
    "# coin_context_df = pd.DataFrame([coin_context])\n",
    "\n",
    "# # === Normalize coin context vector ===\n",
    "# # context_numeric = coin_context_df.drop(columns=[\"exchange\"])\n",
    "# context_scaler = StandardScaler()\n",
    "# context_normalized = pd.DataFrame(context_scaler.fit_transform(context_numeric), columns=context_numeric.columns)\n",
    "# # context_normalized[\"exchange\"] = coin_context_df[\"exchange\"].values  # Add back exchange (if needed for reference)\n",
    "\n",
    "# # === Merge with final_df ===\n",
    "# context_broadcast = pd.concat([context_normalized] * len(final_df), ignore_index=True)\n",
    "# context_broadcast.index = final_df.index\n",
    "# merged_df = pd.concat([final_df.drop(columns=label_cols), context_broadcast, final_df[label_cols]], axis=1)\n",
    "\n",
    "# # Your final dataframe\n",
    "# final_df = merged_df\n",
    "\n",
    "# final_df = final_df.drop(columns=[\"timestamp\"])\n",
    "\n",
    "\n",
    "# # Load JSON snapshot data\n",
    "# json_path = '../../datasets/Cong/BTCUSDT_orderbook_snapshot_2024_04_16-556.json'\n",
    "# with open(json_path, \"r\") as f:\n",
    "#     lines = f.readlines()\n",
    "\n",
    "# parsed_data = [json.loads(line) for line in lines]\n",
    "# snapshots = []\n",
    "# for entry in parsed_data:\n",
    "#     snapshots.append({\n",
    "#         \"timestamp\": entry.get(\"record_utc_time\"),\n",
    "#         \"asks\": entry.get(\"asks\", []),\n",
    "#         \"bids\": entry.get(\"bids\", [])\n",
    "#     })\n",
    "\n",
    "# records = []\n",
    "# for snap in snapshots:\n",
    "#     row = {\"timestamp\": snap[\"timestamp\"]}\n",
    "#     for i in range(10):\n",
    "#         if i < len(snap[\"asks\"]):\n",
    "#             row[f'ask_price_{i+1}'] = float(snap[\"asks\"][i][0])\n",
    "#             row[f'ask_volume_{i+1}'] = float(snap[\"asks\"][i][1])\n",
    "#         else:\n",
    "#             row[f'ask_price_{i+1}'] = None\n",
    "#             row[f'ask_volume_{i+1}'] = None\n",
    "#         if i < len(snap[\"bids\"]):\n",
    "#             row[f'bid_price_{i+1}'] = float(snap[\"bids\"][i][0])\n",
    "#             row[f'bid_volume_{i+1}'] = float(snap[\"bids\"][i][1])\n",
    "#         else:\n",
    "#             row[f'bid_price_{i+1}'] = None\n",
    "#             row[f'bid_volume_{i+1}'] = None\n",
    "#     records.append(row)\n",
    "\n",
    "# df = pd.DataFrame(records)\n",
    "# df = df.dropna(subset=[\"ask_price_1\", \"bid_price_1\"]).reset_index(drop=True)\n",
    "\n",
    "# # Normalize features\n",
    "# price_volume_cols = [col for col in df.columns if col.startswith('ask_price_') or \n",
    "#                      col.startswith('bid_price_') or col.startswith('ask_volume_') or \n",
    "#                      col.startswith('bid_volume_')]\n",
    "\n",
    "# scaler = StandardScaler()\n",
    "# df_norm = pd.DataFrame(scaler.fit_transform(df[price_volume_cols]), columns=price_volume_cols)\n",
    "# df_norm[\"timestamp\"] = pd.to_datetime(df[\"timestamp\"])\n",
    "# df_norm[\"mid_price\"] = (df[\"ask_price_1\"] + df[\"bid_price_1\"]) / 2\n",
    "\n",
    "# # Multi-horizon label generation\n",
    "# horizons = [5, 10, 20, 30, 50]\n",
    "# # horizons = [10, 20, 30, 50, 100]\n",
    "# epsilon = 0.0001\n",
    "\n",
    "# # Use 3-class labeling\n",
    "# def label_movement(p_now, p_future):\n",
    "#     delta = (p_future - p_now) / p_now\n",
    "#     if delta > epsilon:\n",
    "#         return 1  # Up\n",
    "#     elif delta < -epsilon:\n",
    "#         return 3  # Down\n",
    "#     else:\n",
    "#         return 2  # Stationary\n",
    "\n",
    "# usable_df = df_norm.iloc[:-max(horizons)].copy()\n",
    "# for h in horizons:\n",
    "#     future_mid = df_norm[\"mid_price\"].shift(-h)\n",
    "#     usable_df[f\"label_{h}\"] = [\n",
    "#         label_movement(p, f) if pd.notna(f) else np.nan\n",
    "#         for p, f in zip(usable_df[\"mid_price\"], future_mid)\n",
    "#     ]\n",
    "\n",
    "# label_cols = [f\"label_{h}\" for h in horizons]\n",
    "# final_df = usable_df.dropna(subset=label_cols).reset_index(drop=True)\n",
    "print(\"Processed dataset shape:\", final_df.shape)\n"
   ]
  },
  {
   "cell_type": "code",
   "execution_count": 40,
   "id": "a32448fd-cad3-4f6c-a3d1-2c0e8ddae6be",
   "metadata": {},
   "outputs": [],
   "source": [
    "final_df = final_df.T"
   ]
  },
  {
   "cell_type": "code",
   "execution_count": 41,
   "id": "205f4759-c219-4e0a-bb4b-03433e5d638e",
   "metadata": {},
   "outputs": [
    {
     "data": {
      "text/html": [
       "<div>\n",
       "<style scoped>\n",
       "    .dataframe tbody tr th:only-of-type {\n",
       "        vertical-align: middle;\n",
       "    }\n",
       "\n",
       "    .dataframe tbody tr th {\n",
       "        vertical-align: top;\n",
       "    }\n",
       "\n",
       "    .dataframe thead th {\n",
       "        text-align: right;\n",
       "    }\n",
       "</style>\n",
       "<table border=\"1\" class=\"dataframe\">\n",
       "  <thead>\n",
       "    <tr style=\"text-align: right;\">\n",
       "      <th></th>\n",
       "      <th>0</th>\n",
       "      <th>1</th>\n",
       "      <th>2</th>\n",
       "      <th>3</th>\n",
       "      <th>4</th>\n",
       "      <th>5</th>\n",
       "      <th>6</th>\n",
       "      <th>7</th>\n",
       "      <th>8</th>\n",
       "      <th>9</th>\n",
       "      <th>...</th>\n",
       "      <th>1079</th>\n",
       "      <th>1080</th>\n",
       "      <th>1081</th>\n",
       "      <th>1082</th>\n",
       "      <th>1083</th>\n",
       "      <th>1084</th>\n",
       "      <th>1085</th>\n",
       "      <th>1086</th>\n",
       "      <th>1087</th>\n",
       "      <th>1088</th>\n",
       "    </tr>\n",
       "  </thead>\n",
       "  <tbody>\n",
       "    <tr>\n",
       "      <th>ask_price_1</th>\n",
       "      <td>0.787777</td>\n",
       "      <td>0.758016</td>\n",
       "      <td>0.939000</td>\n",
       "      <td>0.793726</td>\n",
       "      <td>1.009654</td>\n",
       "      <td>0.764239</td>\n",
       "      <td>0.765947</td>\n",
       "      <td>0.691661</td>\n",
       "      <td>0.733535</td>\n",
       "      <td>0.778020</td>\n",
       "      <td>...</td>\n",
       "      <td>1.358018</td>\n",
       "      <td>1.361493</td>\n",
       "      <td>1.464755</td>\n",
       "      <td>1.399127</td>\n",
       "      <td>1.574732</td>\n",
       "      <td>1.473707</td>\n",
       "      <td>1.508063</td>\n",
       "      <td>1.498541</td>\n",
       "      <td>1.518134</td>\n",
       "      <td>1.556828</td>\n",
       "    </tr>\n",
       "    <tr>\n",
       "      <th>ask_volume_1</th>\n",
       "      <td>-0.889437</td>\n",
       "      <td>0.309400</td>\n",
       "      <td>0.260860</td>\n",
       "      <td>0.596678</td>\n",
       "      <td>-0.794347</td>\n",
       "      <td>-0.399067</td>\n",
       "      <td>0.278482</td>\n",
       "      <td>0.051446</td>\n",
       "      <td>-1.074707</td>\n",
       "      <td>-0.853522</td>\n",
       "      <td>...</td>\n",
       "      <td>-0.871834</td>\n",
       "      <td>1.339390</td>\n",
       "      <td>1.550618</td>\n",
       "      <td>2.036066</td>\n",
       "      <td>0.100610</td>\n",
       "      <td>-1.124067</td>\n",
       "      <td>0.054699</td>\n",
       "      <td>1.058963</td>\n",
       "      <td>1.625680</td>\n",
       "      <td>-0.937288</td>\n",
       "    </tr>\n",
       "    <tr>\n",
       "      <th>bid_price_1</th>\n",
       "      <td>0.787798</td>\n",
       "      <td>0.758037</td>\n",
       "      <td>0.939019</td>\n",
       "      <td>0.793746</td>\n",
       "      <td>1.009672</td>\n",
       "      <td>0.764260</td>\n",
       "      <td>0.765968</td>\n",
       "      <td>0.691683</td>\n",
       "      <td>0.733557</td>\n",
       "      <td>0.778041</td>\n",
       "      <td>...</td>\n",
       "      <td>1.358031</td>\n",
       "      <td>1.361505</td>\n",
       "      <td>1.464766</td>\n",
       "      <td>1.399139</td>\n",
       "      <td>1.574741</td>\n",
       "      <td>1.473718</td>\n",
       "      <td>1.508073</td>\n",
       "      <td>1.498552</td>\n",
       "      <td>1.518144</td>\n",
       "      <td>1.556838</td>\n",
       "    </tr>\n",
       "    <tr>\n",
       "      <th>bid_volume_1</th>\n",
       "      <td>0.369989</td>\n",
       "      <td>-0.802514</td>\n",
       "      <td>-0.789181</td>\n",
       "      <td>-0.867463</td>\n",
       "      <td>0.505927</td>\n",
       "      <td>-0.957800</td>\n",
       "      <td>-0.503068</td>\n",
       "      <td>-1.089764</td>\n",
       "      <td>0.068876</td>\n",
       "      <td>1.929023</td>\n",
       "      <td>...</td>\n",
       "      <td>0.765229</td>\n",
       "      <td>-0.769640</td>\n",
       "      <td>-0.715331</td>\n",
       "      <td>-0.693146</td>\n",
       "      <td>-0.452891</td>\n",
       "      <td>-0.307373</td>\n",
       "      <td>0.014105</td>\n",
       "      <td>-0.765127</td>\n",
       "      <td>-0.956201</td>\n",
       "      <td>1.235708</td>\n",
       "    </tr>\n",
       "    <tr>\n",
       "      <th>ask_price_2</th>\n",
       "      <td>0.787888</td>\n",
       "      <td>0.757887</td>\n",
       "      <td>0.938915</td>\n",
       "      <td>0.793877</td>\n",
       "      <td>1.009834</td>\n",
       "      <td>0.763758</td>\n",
       "      <td>0.765466</td>\n",
       "      <td>0.691189</td>\n",
       "      <td>0.733266</td>\n",
       "      <td>0.777541</td>\n",
       "      <td>...</td>\n",
       "      <td>1.359226</td>\n",
       "      <td>1.361327</td>\n",
       "      <td>1.464505</td>\n",
       "      <td>1.398750</td>\n",
       "      <td>1.574634</td>\n",
       "      <td>1.474931</td>\n",
       "      <td>1.507936</td>\n",
       "      <td>1.498159</td>\n",
       "      <td>1.518127</td>\n",
       "      <td>1.557788</td>\n",
       "    </tr>\n",
       "    <tr>\n",
       "      <th>...</th>\n",
       "      <td>...</td>\n",
       "      <td>...</td>\n",
       "      <td>...</td>\n",
       "      <td>...</td>\n",
       "      <td>...</td>\n",
       "      <td>...</td>\n",
       "      <td>...</td>\n",
       "      <td>...</td>\n",
       "      <td>...</td>\n",
       "      <td>...</td>\n",
       "      <td>...</td>\n",
       "      <td>...</td>\n",
       "      <td>...</td>\n",
       "      <td>...</td>\n",
       "      <td>...</td>\n",
       "      <td>...</td>\n",
       "      <td>...</td>\n",
       "      <td>...</td>\n",
       "      <td>...</td>\n",
       "      <td>...</td>\n",
       "      <td>...</td>\n",
       "    </tr>\n",
       "    <tr>\n",
       "      <th>label_5</th>\n",
       "      <td>3.000000</td>\n",
       "      <td>2.000000</td>\n",
       "      <td>3.000000</td>\n",
       "      <td>3.000000</td>\n",
       "      <td>3.000000</td>\n",
       "      <td>1.000000</td>\n",
       "      <td>1.000000</td>\n",
       "      <td>1.000000</td>\n",
       "      <td>1.000000</td>\n",
       "      <td>1.000000</td>\n",
       "      <td>...</td>\n",
       "      <td>1.000000</td>\n",
       "      <td>1.000000</td>\n",
       "      <td>3.000000</td>\n",
       "      <td>1.000000</td>\n",
       "      <td>3.000000</td>\n",
       "      <td>1.000000</td>\n",
       "      <td>3.000000</td>\n",
       "      <td>1.000000</td>\n",
       "      <td>1.000000</td>\n",
       "      <td>1.000000</td>\n",
       "    </tr>\n",
       "    <tr>\n",
       "      <th>label_10</th>\n",
       "      <td>1.000000</td>\n",
       "      <td>1.000000</td>\n",
       "      <td>1.000000</td>\n",
       "      <td>1.000000</td>\n",
       "      <td>1.000000</td>\n",
       "      <td>1.000000</td>\n",
       "      <td>1.000000</td>\n",
       "      <td>1.000000</td>\n",
       "      <td>1.000000</td>\n",
       "      <td>1.000000</td>\n",
       "      <td>...</td>\n",
       "      <td>1.000000</td>\n",
       "      <td>1.000000</td>\n",
       "      <td>1.000000</td>\n",
       "      <td>1.000000</td>\n",
       "      <td>1.000000</td>\n",
       "      <td>1.000000</td>\n",
       "      <td>3.000000</td>\n",
       "      <td>1.000000</td>\n",
       "      <td>3.000000</td>\n",
       "      <td>1.000000</td>\n",
       "    </tr>\n",
       "    <tr>\n",
       "      <th>label_20</th>\n",
       "      <td>1.000000</td>\n",
       "      <td>3.000000</td>\n",
       "      <td>3.000000</td>\n",
       "      <td>3.000000</td>\n",
       "      <td>3.000000</td>\n",
       "      <td>3.000000</td>\n",
       "      <td>3.000000</td>\n",
       "      <td>3.000000</td>\n",
       "      <td>1.000000</td>\n",
       "      <td>1.000000</td>\n",
       "      <td>...</td>\n",
       "      <td>1.000000</td>\n",
       "      <td>1.000000</td>\n",
       "      <td>3.000000</td>\n",
       "      <td>1.000000</td>\n",
       "      <td>3.000000</td>\n",
       "      <td>3.000000</td>\n",
       "      <td>3.000000</td>\n",
       "      <td>3.000000</td>\n",
       "      <td>3.000000</td>\n",
       "      <td>1.000000</td>\n",
       "    </tr>\n",
       "    <tr>\n",
       "      <th>label_30</th>\n",
       "      <td>3.000000</td>\n",
       "      <td>3.000000</td>\n",
       "      <td>3.000000</td>\n",
       "      <td>3.000000</td>\n",
       "      <td>3.000000</td>\n",
       "      <td>3.000000</td>\n",
       "      <td>3.000000</td>\n",
       "      <td>3.000000</td>\n",
       "      <td>3.000000</td>\n",
       "      <td>3.000000</td>\n",
       "      <td>...</td>\n",
       "      <td>1.000000</td>\n",
       "      <td>1.000000</td>\n",
       "      <td>1.000000</td>\n",
       "      <td>1.000000</td>\n",
       "      <td>1.000000</td>\n",
       "      <td>1.000000</td>\n",
       "      <td>1.000000</td>\n",
       "      <td>1.000000</td>\n",
       "      <td>1.000000</td>\n",
       "      <td>1.000000</td>\n",
       "    </tr>\n",
       "    <tr>\n",
       "      <th>label_50</th>\n",
       "      <td>3.000000</td>\n",
       "      <td>3.000000</td>\n",
       "      <td>3.000000</td>\n",
       "      <td>3.000000</td>\n",
       "      <td>3.000000</td>\n",
       "      <td>1.000000</td>\n",
       "      <td>1.000000</td>\n",
       "      <td>1.000000</td>\n",
       "      <td>1.000000</td>\n",
       "      <td>1.000000</td>\n",
       "      <td>...</td>\n",
       "      <td>1.000000</td>\n",
       "      <td>1.000000</td>\n",
       "      <td>3.000000</td>\n",
       "      <td>1.000000</td>\n",
       "      <td>1.000000</td>\n",
       "      <td>3.000000</td>\n",
       "      <td>3.000000</td>\n",
       "      <td>1.000000</td>\n",
       "      <td>1.000000</td>\n",
       "      <td>1.000000</td>\n",
       "    </tr>\n",
       "  </tbody>\n",
       "</table>\n",
       "<p>72 rows × 1089 columns</p>\n",
       "</div>"
      ],
      "text/plain": [
       "                  0         1         2         3         4         5     \\\n",
       "ask_price_1   0.787777  0.758016  0.939000  0.793726  1.009654  0.764239   \n",
       "ask_volume_1 -0.889437  0.309400  0.260860  0.596678 -0.794347 -0.399067   \n",
       "bid_price_1   0.787798  0.758037  0.939019  0.793746  1.009672  0.764260   \n",
       "bid_volume_1  0.369989 -0.802514 -0.789181 -0.867463  0.505927 -0.957800   \n",
       "ask_price_2   0.787888  0.757887  0.938915  0.793877  1.009834  0.763758   \n",
       "...                ...       ...       ...       ...       ...       ...   \n",
       "label_5       3.000000  2.000000  3.000000  3.000000  3.000000  1.000000   \n",
       "label_10      1.000000  1.000000  1.000000  1.000000  1.000000  1.000000   \n",
       "label_20      1.000000  3.000000  3.000000  3.000000  3.000000  3.000000   \n",
       "label_30      3.000000  3.000000  3.000000  3.000000  3.000000  3.000000   \n",
       "label_50      3.000000  3.000000  3.000000  3.000000  3.000000  1.000000   \n",
       "\n",
       "                  6         7         8         9     ...      1079      1080  \\\n",
       "ask_price_1   0.765947  0.691661  0.733535  0.778020  ...  1.358018  1.361493   \n",
       "ask_volume_1  0.278482  0.051446 -1.074707 -0.853522  ... -0.871834  1.339390   \n",
       "bid_price_1   0.765968  0.691683  0.733557  0.778041  ...  1.358031  1.361505   \n",
       "bid_volume_1 -0.503068 -1.089764  0.068876  1.929023  ...  0.765229 -0.769640   \n",
       "ask_price_2   0.765466  0.691189  0.733266  0.777541  ...  1.359226  1.361327   \n",
       "...                ...       ...       ...       ...  ...       ...       ...   \n",
       "label_5       1.000000  1.000000  1.000000  1.000000  ...  1.000000  1.000000   \n",
       "label_10      1.000000  1.000000  1.000000  1.000000  ...  1.000000  1.000000   \n",
       "label_20      3.000000  3.000000  1.000000  1.000000  ...  1.000000  1.000000   \n",
       "label_30      3.000000  3.000000  3.000000  3.000000  ...  1.000000  1.000000   \n",
       "label_50      1.000000  1.000000  1.000000  1.000000  ...  1.000000  1.000000   \n",
       "\n",
       "                  1081      1082      1083      1084      1085      1086  \\\n",
       "ask_price_1   1.464755  1.399127  1.574732  1.473707  1.508063  1.498541   \n",
       "ask_volume_1  1.550618  2.036066  0.100610 -1.124067  0.054699  1.058963   \n",
       "bid_price_1   1.464766  1.399139  1.574741  1.473718  1.508073  1.498552   \n",
       "bid_volume_1 -0.715331 -0.693146 -0.452891 -0.307373  0.014105 -0.765127   \n",
       "ask_price_2   1.464505  1.398750  1.574634  1.474931  1.507936  1.498159   \n",
       "...                ...       ...       ...       ...       ...       ...   \n",
       "label_5       3.000000  1.000000  3.000000  1.000000  3.000000  1.000000   \n",
       "label_10      1.000000  1.000000  1.000000  1.000000  3.000000  1.000000   \n",
       "label_20      3.000000  1.000000  3.000000  3.000000  3.000000  3.000000   \n",
       "label_30      1.000000  1.000000  1.000000  1.000000  1.000000  1.000000   \n",
       "label_50      3.000000  1.000000  1.000000  3.000000  3.000000  1.000000   \n",
       "\n",
       "                  1087      1088  \n",
       "ask_price_1   1.518134  1.556828  \n",
       "ask_volume_1  1.625680 -0.937288  \n",
       "bid_price_1   1.518144  1.556838  \n",
       "bid_volume_1 -0.956201  1.235708  \n",
       "ask_price_2   1.518127  1.557788  \n",
       "...                ...       ...  \n",
       "label_5       1.000000  1.000000  \n",
       "label_10      3.000000  1.000000  \n",
       "label_20      3.000000  1.000000  \n",
       "label_30      1.000000  1.000000  \n",
       "label_50      1.000000  1.000000  \n",
       "\n",
       "[72 rows x 1089 columns]"
      ]
     },
     "execution_count": 41,
     "metadata": {},
     "output_type": "execute_result"
    }
   ],
   "source": [
    "final_df"
   ]
  },
  {
   "cell_type": "code",
   "execution_count": 42,
   "id": "40171c70",
   "metadata": {},
   "outputs": [
    {
     "name": "stdout",
     "output_type": "stream",
     "text": [
      "cpu\n"
     ]
    }
   ],
   "source": [
    "device = torch.device(\"cuda:0\" if torch.cuda.is_available() else \"cpu\")\n",
    "print(device)"
   ]
  },
  {
   "cell_type": "code",
   "execution_count": 43,
   "id": "c59e24b8",
   "metadata": {},
   "outputs": [],
   "source": [
    "def prepare_x(data):\n",
    "    df1 = data[:67, :].T\n",
    "    return np.array(df1)\n",
    "\n",
    "def get_label(data):\n",
    "    lob = data[-5:, :].T\n",
    "    return lob\n",
    "\n",
    "def data_classification(X, Y, T):\n",
    "    [N, D] = X.shape\n",
    "    df = np.array(X)\n",
    "\n",
    "    dY = np.array(Y)\n",
    "\n",
    "    dataY = dY[T - 1:N]\n",
    "\n",
    "    dataX = np.zeros((N - T + 1, T, D))\n",
    "    for i in range(T, N + 1):\n",
    "        dataX[i - T] = df[i - T:i, :]\n",
    "\n",
    "    return dataX, dataY\n",
    "\n",
    "def torch_data(x, y):\n",
    "    x = torch.from_numpy(x)\n",
    "    x = torch.unsqueeze(x, 1)\n",
    "    y = torch.from_numpy(y)\n",
    "    y = F.one_hot(y, num_classes=3)\n",
    "    return x, y"
   ]
  },
  {
   "cell_type": "code",
   "execution_count": 44,
   "id": "9255e3d3-ab64-4420-9119-5561db42fdf8",
   "metadata": {},
   "outputs": [],
   "source": [
    "class Dataset(data.Dataset):\n",
    "    \"\"\"Characterizes a dataset for PyTorch\"\"\"\n",
    "    def __init__(self, data, k, num_classes, T):\n",
    "        \"\"\"Initialization\"\"\" \n",
    "        self.k = k\n",
    "        self.num_classes = num_classes\n",
    "        self.T = T\n",
    "            \n",
    "        x = prepare_x(data)\n",
    "        y = get_label(data)\n",
    "        x, y = data_classification(x, y, self.T)\n",
    "        y = y[:,self.k] - 1\n",
    "        self.length = len(x)\n",
    "\n",
    "        x = torch.from_numpy(x)\n",
    "        self.x = torch.unsqueeze(x, 1)\n",
    "        self.y = torch.from_numpy(y.astype(np.int64))\n",
    "\n",
    "    def __len__(self):\n",
    "        \"\"\"Denotes the total number of samples\"\"\"\n",
    "        return self.length\n",
    "\n",
    "    def __getitem__(self, index):\n",
    "        \"\"\"Generates samples of data\"\"\"\n",
    "        return self.x[index], self.y[index]"
   ]
  },
  {
   "cell_type": "markdown",
   "id": "2fc293b4-b780-4abc-9363-9f33e5ca8ba0",
   "metadata": {},
   "source": [
    "Data preparation\n",
    "We used no auction dataset that is normalised by decimal precision approach in their work. The first seven days are training data and the last three days are testing data. A validation set (20%) from the training set is used to monitor the overfitting behaviours.\n",
    "\n",
    "The first 40 columns of the FI-2010 dataset are 10 levels ask and bid information for a limit order book and we only use these 40 features in our network. The last 5 columns of the FI-2010 dataset are the labels with different prediction horizons."
   ]
  },
  {
   "cell_type": "code",
   "execution_count": 45,
   "id": "856d805c",
   "metadata": {},
   "outputs": [
    {
     "name": "stdout",
     "output_type": "stream",
     "text": [
      "(72, 871) (72, 109) (72, 109)\n"
     ]
    }
   ],
   "source": [
    "# please change the data_path to your local path\n",
    "# data_path = '/nfs/home/zihaoz/limit_order_book/data'\n",
    "\n",
    "# dec_data = np.loadtxt('../data/data/Train_Dst_NoAuction_DecPre_CF_7.txt')\n",
    "# dec_train = dec_data[:, :int(np.floor(dec_data.shape[1] * 0.8))]\n",
    "# dec_val = dec_data[:, int(np.floor(dec_data.shape[1] * 0.8)):]\n",
    "\n",
    "# dec_test1 = np.loadtxt('../data/data/Test_Dst_NoAuction_DecPre_CF_7.txt')\n",
    "# dec_test2 = np.loadtxt('../data/data/Test_Dst_NoAuction_DecPre_CF_8.txt')\n",
    "# dec_test3 = np.loadtxt('../data/data/Test_Dst_NoAuction_DecPre_CF_9.txt')\n",
    "# dec_test = np.hstack((dec_test1, dec_test2, dec_test3))\n",
    "\n",
    "# Split into training (80%), validation (10%), and test (10%) without shuffling (time series)\n",
    "num_samples = len(final_df.T)\n",
    "train_end = int(num_samples * 0.8)\n",
    "val_end = int(num_samples * 0.9)\n",
    "final_df_np = final_df.values\n",
    "\n",
    "dec_train = final_df_np[:, :train_end]\n",
    "dec_val = final_df_np[:, train_end:val_end]\n",
    "dec_test = final_df_np[:, val_end:]\n",
    "\n",
    "print(dec_train.shape, dec_val.shape, dec_test.shape)"
   ]
  },
  {
   "cell_type": "code",
   "execution_count": 46,
   "id": "966a9cc7-aa18-4b00-8890-90f7a3801c85",
   "metadata": {},
   "outputs": [
    {
     "name": "stdout",
     "output_type": "stream",
     "text": [
      "torch.Size([822, 1, 50, 67]) torch.Size([822])\n"
     ]
    }
   ],
   "source": [
    "batch_size = 64\n",
    "\n",
    "dataset_train = Dataset(data=dec_train, k=4, num_classes=3, T=50)\n",
    "dataset_val = Dataset(data=dec_val, k=4, num_classes=3, T=50)\n",
    "dataset_test = Dataset(data=dec_test, k=4, num_classes=3, T=50)\n",
    "\n",
    "train_loader = torch.utils.data.DataLoader(dataset=dataset_train, batch_size=batch_size, shuffle=True)\n",
    "val_loader = torch.utils.data.DataLoader(dataset=dataset_val, batch_size=batch_size, shuffle=False)\n",
    "test_loader = torch.utils.data.DataLoader(dataset=dataset_test, batch_size=batch_size, shuffle=False)\n",
    "\n",
    "print(dataset_train.x.shape, dataset_train.y.shape)"
   ]
  },
  {
   "cell_type": "code",
   "execution_count": 47,
   "id": "c8fadd16-9679-4e58-9f12-04815faf24e0",
   "metadata": {},
   "outputs": [
    {
     "name": "stdout",
     "output_type": "stream",
     "text": [
      "tensor([[[[-0.5585, -0.7355, -0.5584,  ...,  0.0000,  0.0000,  0.0000],\n",
      "          [-0.3315,  0.1110, -0.3314,  ...,  0.0000,  0.0000,  0.0000],\n",
      "          [ 0.0138, -0.7457,  0.0139,  ...,  0.0000,  0.0000,  0.0000],\n",
      "          ...,\n",
      "          [-1.7607, -0.9723, -1.7606,  ...,  0.0000,  0.0000,  0.0000],\n",
      "          [-1.6483,  0.0439, -1.6482,  ...,  0.0000,  0.0000,  0.0000],\n",
      "          [-1.6651,  0.4891, -1.6650,  ...,  0.0000,  0.0000,  0.0000]]]],\n",
      "       dtype=torch.float64)\n",
      "tensor([0])\n",
      "torch.Size([1, 1, 50, 67]) torch.Size([1])\n"
     ]
    }
   ],
   "source": [
    "tmp_loader = torch.utils.data.DataLoader(dataset=dataset_train, batch_size=1, shuffle=True)\n",
    "\n",
    "for x, y in tmp_loader:\n",
    "    print(x)\n",
    "    print(y)\n",
    "    print(x.shape, y.shape)\n",
    "    break"
   ]
  },
  {
   "cell_type": "markdown",
   "id": "a5831b89-74f3-4b96-811f-e0dd3f4f9cb7",
   "metadata": {},
   "source": [
    "Model Architecture\n",
    "Please find the detailed discussion of our model architecture in our paper."
   ]
  },
  {
   "cell_type": "code",
   "execution_count": 48,
   "id": "0fce4666-5f23-4324-87cf-69279998f6c2",
   "metadata": {},
   "outputs": [],
   "source": [
    "class deeplob(nn.Module):\n",
    "    def __init__(self, y_len):\n",
    "        super().__init__()\n",
    "        self.y_len = y_len\n",
    "        \n",
    "        # convolution blocks\n",
    "        self.conv1 = nn.Sequential(\n",
    "            nn.Conv2d(in_channels=1, out_channels=32, kernel_size=(1,2), stride=(1,2)),\n",
    "            nn.LeakyReLU(negative_slope=0.01),\n",
    "#             nn.Tanh(),\n",
    "            nn.BatchNorm2d(32),\n",
    "            nn.Conv2d(in_channels=32, out_channels=32, kernel_size=(4,1)),\n",
    "            nn.LeakyReLU(negative_slope=0.01),\n",
    "            nn.BatchNorm2d(32),\n",
    "            nn.Conv2d(in_channels=32, out_channels=32, kernel_size=(4,1)),\n",
    "            nn.LeakyReLU(negative_slope=0.01),\n",
    "            nn.BatchNorm2d(32),\n",
    "        )\n",
    "        self.conv2 = nn.Sequential(\n",
    "            nn.Conv2d(in_channels=32, out_channels=32, kernel_size=(1,2), stride=(1,2)),\n",
    "            nn.Tanh(),\n",
    "            nn.BatchNorm2d(32),\n",
    "            nn.Conv2d(in_channels=32, out_channels=32, kernel_size=(4,1)),\n",
    "            nn.Tanh(),\n",
    "            nn.BatchNorm2d(32),\n",
    "            nn.Conv2d(in_channels=32, out_channels=32, kernel_size=(4,1)),\n",
    "            nn.Tanh(),\n",
    "            nn.BatchNorm2d(32),\n",
    "        )\n",
    "        self.conv3 = nn.Sequential(\n",
    "            nn.Conv2d(in_channels=32, out_channels=32, kernel_size=(1,10)),\n",
    "            nn.LeakyReLU(negative_slope=0.01),\n",
    "            nn.BatchNorm2d(32),\n",
    "            nn.Conv2d(in_channels=32, out_channels=32, kernel_size=(4,1)),\n",
    "            nn.LeakyReLU(negative_slope=0.01),\n",
    "            nn.BatchNorm2d(32),\n",
    "            nn.Conv2d(in_channels=32, out_channels=32, kernel_size=(4,1)),\n",
    "            nn.LeakyReLU(negative_slope=0.01),\n",
    "            nn.BatchNorm2d(32),\n",
    "        )\n",
    "        \n",
    "        # inception moduels\n",
    "        self.inp1 = nn.Sequential(\n",
    "            nn.Conv2d(in_channels=32, out_channels=64, kernel_size=(1,1), padding='same'),\n",
    "            nn.LeakyReLU(negative_slope=0.01),\n",
    "            nn.BatchNorm2d(64),\n",
    "            nn.Conv2d(in_channels=64, out_channels=64, kernel_size=(3,1), padding='same'),\n",
    "            nn.LeakyReLU(negative_slope=0.01),\n",
    "            nn.BatchNorm2d(64),\n",
    "        )\n",
    "        self.inp2 = nn.Sequential(\n",
    "            nn.Conv2d(in_channels=32, out_channels=64, kernel_size=(1,1), padding='same'),\n",
    "            nn.LeakyReLU(negative_slope=0.01),\n",
    "            nn.BatchNorm2d(64),\n",
    "            nn.Conv2d(in_channels=64, out_channels=64, kernel_size=(5,1), padding='same'),\n",
    "            nn.LeakyReLU(negative_slope=0.01),\n",
    "            nn.BatchNorm2d(64),\n",
    "        )\n",
    "        self.inp3 = nn.Sequential(\n",
    "            nn.MaxPool2d((3, 1), stride=(1, 1), padding=(1, 0)),\n",
    "            nn.Conv2d(in_channels=32, out_channels=64, kernel_size=(1,1), padding='same'),\n",
    "            nn.LeakyReLU(negative_slope=0.01),\n",
    "            nn.BatchNorm2d(64),\n",
    "        )\n",
    "        \n",
    "        # lstm layers\n",
    "        self.lstm = nn.LSTM(input_size=1344, hidden_size=64, num_layers=1, batch_first=True)\n",
    "        # self.lstm = nn.LSTM(input_size=192, hidden_size=64, num_layers=1, batch_first=True)\n",
    "        self.fc1 = nn.Linear(64, self.y_len)\n",
    "\n",
    "    def forward(self, x):\n",
    "        batch_size = x.size(0)\n",
    "    \n",
    "        # Initial hidden and cell state for LSTM\n",
    "        h0 = torch.zeros(1, batch_size, 64).to(x.device)\n",
    "        c0 = torch.zeros(1, batch_size, 64).to(x.device)\n",
    "    \n",
    "        # Convolutional layers\n",
    "        x = self.conv1(x)       # (B, C1, T, D)\n",
    "        x = self.conv2(x)       # (B, C2, T, D)\n",
    "        x = self.conv3(x)       # (B, C3, T, D)\n",
    "    \n",
    "        # Inception-like branches\n",
    "        x_inp1 = self.inp1(x)   # e.g., 1x1 conv\n",
    "        x_inp2 = self.inp2(x)   # e.g., 3x1 conv\n",
    "        x_inp3 = self.inp3(x)   # e.g., 5x1 conv\n",
    "    \n",
    "        # Concatenate across the channel dimension\n",
    "        x = torch.cat((x_inp1, x_inp2, x_inp3), dim=1)  # shape: (B, C_total, T, D)\n",
    "    \n",
    "        # Prepare input for LSTM\n",
    "        x = x.permute(0, 2, 1, 3)                 # (B, T, C, D)\n",
    "        x = x.reshape(batch_size, x.shape[1], -1) # (B, T, C*D)\n",
    "    \n",
    "        # LSTM expects input of shape (B, T, input_size)\n",
    "        x, _ = self.lstm(x, (h0, c0))             # output: (B, T, hidden_size)\n",
    "    \n",
    "        # Use last time step's hidden state\n",
    "        x = x[:, -1, :]                           # (B, hidden_size)\n",
    "    \n",
    "        # Fully connected + softmax for classification\n",
    "        x = self.fc1(x)                           # (B, num_classes)\n",
    "        forecast_y = torch.softmax(x, dim=1)\n",
    "    \n",
    "        return forecast_y\n",
    "\n",
    "\n",
    "#     def forward(self, x):\n",
    "#         # h0: (number of hidden layers, batch size, hidden size)\n",
    "#         h0 = torch.zeros(1, x.size(0), 64).to(device)\n",
    "#         c0 = torch.zeros(1, x.size(0), 64).to(device)\n",
    "    \n",
    "#         x = self.conv1(x)\n",
    "#         x = self.conv2(x)\n",
    "#         x = self.conv3(x)\n",
    "        \n",
    "#         x_inp1 = self.inp1(x)\n",
    "#         x_inp2 = self.inp2(x)\n",
    "#         x_inp3 = self.inp3(x)  \n",
    "        \n",
    "#         x = torch.cat((x_inp1, x_inp2, x_inp3), dim=1)\n",
    "        \n",
    "# #         x = torch.transpose(x, 1, 2)\n",
    "#         x = x.permute(0, 2, 1, 3)\n",
    "#         x = torch.reshape(x, (-1, x.shape[1], x.shape[2]))\n",
    "        \n",
    "#         x, _ = self.lstm(x, (h0, c0))\n",
    "#         x = x[:, -1, :]\n",
    "#         x = self.fc1(x)\n",
    "#         forecast_y = torch.softmax(x, dim=1)\n",
    "        \n",
    "#         return forecast_y"
   ]
  },
  {
   "cell_type": "code",
   "execution_count": 49,
   "id": "77825bcc-35c0-483c-bdf6-a57533c95c97",
   "metadata": {},
   "outputs": [
    {
     "data": {
      "text/plain": [
       "deeplob(\n",
       "  (conv1): Sequential(\n",
       "    (0): Conv2d(1, 32, kernel_size=(1, 2), stride=(1, 2))\n",
       "    (1): LeakyReLU(negative_slope=0.01)\n",
       "    (2): BatchNorm2d(32, eps=1e-05, momentum=0.1, affine=True, track_running_stats=True)\n",
       "    (3): Conv2d(32, 32, kernel_size=(4, 1), stride=(1, 1))\n",
       "    (4): LeakyReLU(negative_slope=0.01)\n",
       "    (5): BatchNorm2d(32, eps=1e-05, momentum=0.1, affine=True, track_running_stats=True)\n",
       "    (6): Conv2d(32, 32, kernel_size=(4, 1), stride=(1, 1))\n",
       "    (7): LeakyReLU(negative_slope=0.01)\n",
       "    (8): BatchNorm2d(32, eps=1e-05, momentum=0.1, affine=True, track_running_stats=True)\n",
       "  )\n",
       "  (conv2): Sequential(\n",
       "    (0): Conv2d(32, 32, kernel_size=(1, 2), stride=(1, 2))\n",
       "    (1): Tanh()\n",
       "    (2): BatchNorm2d(32, eps=1e-05, momentum=0.1, affine=True, track_running_stats=True)\n",
       "    (3): Conv2d(32, 32, kernel_size=(4, 1), stride=(1, 1))\n",
       "    (4): Tanh()\n",
       "    (5): BatchNorm2d(32, eps=1e-05, momentum=0.1, affine=True, track_running_stats=True)\n",
       "    (6): Conv2d(32, 32, kernel_size=(4, 1), stride=(1, 1))\n",
       "    (7): Tanh()\n",
       "    (8): BatchNorm2d(32, eps=1e-05, momentum=0.1, affine=True, track_running_stats=True)\n",
       "  )\n",
       "  (conv3): Sequential(\n",
       "    (0): Conv2d(32, 32, kernel_size=(1, 10), stride=(1, 1))\n",
       "    (1): LeakyReLU(negative_slope=0.01)\n",
       "    (2): BatchNorm2d(32, eps=1e-05, momentum=0.1, affine=True, track_running_stats=True)\n",
       "    (3): Conv2d(32, 32, kernel_size=(4, 1), stride=(1, 1))\n",
       "    (4): LeakyReLU(negative_slope=0.01)\n",
       "    (5): BatchNorm2d(32, eps=1e-05, momentum=0.1, affine=True, track_running_stats=True)\n",
       "    (6): Conv2d(32, 32, kernel_size=(4, 1), stride=(1, 1))\n",
       "    (7): LeakyReLU(negative_slope=0.01)\n",
       "    (8): BatchNorm2d(32, eps=1e-05, momentum=0.1, affine=True, track_running_stats=True)\n",
       "  )\n",
       "  (inp1): Sequential(\n",
       "    (0): Conv2d(32, 64, kernel_size=(1, 1), stride=(1, 1), padding=same)\n",
       "    (1): LeakyReLU(negative_slope=0.01)\n",
       "    (2): BatchNorm2d(64, eps=1e-05, momentum=0.1, affine=True, track_running_stats=True)\n",
       "    (3): Conv2d(64, 64, kernel_size=(3, 1), stride=(1, 1), padding=same)\n",
       "    (4): LeakyReLU(negative_slope=0.01)\n",
       "    (5): BatchNorm2d(64, eps=1e-05, momentum=0.1, affine=True, track_running_stats=True)\n",
       "  )\n",
       "  (inp2): Sequential(\n",
       "    (0): Conv2d(32, 64, kernel_size=(1, 1), stride=(1, 1), padding=same)\n",
       "    (1): LeakyReLU(negative_slope=0.01)\n",
       "    (2): BatchNorm2d(64, eps=1e-05, momentum=0.1, affine=True, track_running_stats=True)\n",
       "    (3): Conv2d(64, 64, kernel_size=(5, 1), stride=(1, 1), padding=same)\n",
       "    (4): LeakyReLU(negative_slope=0.01)\n",
       "    (5): BatchNorm2d(64, eps=1e-05, momentum=0.1, affine=True, track_running_stats=True)\n",
       "  )\n",
       "  (inp3): Sequential(\n",
       "    (0): MaxPool2d(kernel_size=(3, 1), stride=(1, 1), padding=(1, 0), dilation=1, ceil_mode=False)\n",
       "    (1): Conv2d(32, 64, kernel_size=(1, 1), stride=(1, 1), padding=same)\n",
       "    (2): LeakyReLU(negative_slope=0.01)\n",
       "    (3): BatchNorm2d(64, eps=1e-05, momentum=0.1, affine=True, track_running_stats=True)\n",
       "  )\n",
       "  (lstm): LSTM(1344, 64, batch_first=True)\n",
       "  (fc1): Linear(in_features=64, out_features=3, bias=True)\n",
       ")"
      ]
     },
     "execution_count": 49,
     "metadata": {},
     "output_type": "execute_result"
    }
   ],
   "source": [
    "model = deeplob(y_len = dataset_train.num_classes)\n",
    "model.to(device)"
   ]
  },
  {
   "cell_type": "code",
   "execution_count": 50,
   "id": "ecad4157-0a0e-49b2-8a57-2973b81c224c",
   "metadata": {},
   "outputs": [],
   "source": [
    "# summary(model, (1, 1, 100, 66))"
   ]
  },
  {
   "cell_type": "code",
   "execution_count": 51,
   "id": "fb249303-aaba-41be-b878-6b800b1b0424",
   "metadata": {},
   "outputs": [],
   "source": [
    "criterion = nn.CrossEntropyLoss()\n",
    "optimizer = torch.optim.Adam(model.parameters(), lr=0.0001)"
   ]
  },
  {
   "cell_type": "markdown",
   "id": "74d8b2cd-928d-4e6a-aab8-ef375d95bf66",
   "metadata": {},
   "source": [
    "Model Training"
   ]
  },
  {
   "cell_type": "code",
   "execution_count": 52,
   "id": "4723a4bf-581c-45f1-ad3c-e92b20d8cc12",
   "metadata": {},
   "outputs": [],
   "source": [
    "# A function to encapsulate the training loop\n",
    "def batch_gd(model, criterion, optimizer, train_loader, test_loader, epochs):\n",
    "    \n",
    "    train_losses = np.zeros(epochs)\n",
    "    test_losses = np.zeros(epochs)\n",
    "    best_test_loss = np.inf\n",
    "    best_test_epoch = 0\n",
    "\n",
    "    for it in tqdm(range(epochs)):\n",
    "        \n",
    "        model.train()\n",
    "        t0 = datetime.now()\n",
    "        train_loss = []\n",
    "        for inputs, targets in train_loader:\n",
    "            # move data to GPU\n",
    "            inputs, targets = inputs.to(device, dtype=torch.float), targets.to(device, dtype=torch.int64)\n",
    "            # print(\"inputs.shape:\", inputs.shape)\n",
    "            # zero the parameter gradients\n",
    "            optimizer.zero_grad()\n",
    "            # Forward pass\n",
    "            # print(\"about to get model output\")\n",
    "            outputs = model(inputs)\n",
    "            # print(\"done getting model output\")\n",
    "            # print(\"outputs.shape:\", outputs.shape, \"targets.shape:\", targets.shape)\n",
    "            loss = criterion(outputs, targets)\n",
    "            # Backward and optimize\n",
    "            # print(\"about to optimize\")\n",
    "            loss.backward()\n",
    "            optimizer.step()\n",
    "            train_loss.append(loss.item())\n",
    "        # Get train loss and test loss\n",
    "        train_loss = np.mean(train_loss) # a little misleading\n",
    "    \n",
    "        model.eval()\n",
    "        test_loss = []\n",
    "        for inputs, targets in test_loader:\n",
    "            inputs, targets = inputs.to(device, dtype=torch.float), targets.to(device, dtype=torch.int64)      \n",
    "            outputs = model(inputs)\n",
    "            loss = criterion(outputs, targets)\n",
    "            test_loss.append(loss.item())\n",
    "        test_loss = np.mean(test_loss)\n",
    "\n",
    "        # Save losses\n",
    "        train_losses[it] = train_loss\n",
    "        test_losses[it] = test_loss\n",
    "        \n",
    "        if test_loss < best_test_loss:\n",
    "            torch.save(model, './best_val_model_pytorch')\n",
    "            best_test_loss = test_loss\n",
    "            best_test_epoch = it\n",
    "            print('model saved')\n",
    "\n",
    "        dt = datetime.now() - t0\n",
    "        print(f'Epoch {it+1}/{epochs}, Train Loss: {train_loss:.4f}, \\\n",
    "          Validation Loss: {test_loss:.4f}, Duration: {dt}, Best Val Epoch: {best_test_epoch}')\n",
    "\n",
    "    return train_losses, test_losses"
   ]
  },
  {
   "cell_type": "code",
   "execution_count": 53,
   "id": "f5f8b13b-f836-483c-8611-a4ffb66debf6",
   "metadata": {},
   "outputs": [
    {
     "name": "stderr",
     "output_type": "stream",
     "text": [
      "  2%|▎             | 1/50 [00:04<03:48,  4.66s/it]"
     ]
    },
    {
     "name": "stdout",
     "output_type": "stream",
     "text": [
      "model saved\n",
      "Epoch 1/50, Train Loss: 1.0433,           Validation Loss: 1.0365, Duration: 0:00:04.656502, Best Val Epoch: 0\n"
     ]
    },
    {
     "name": "stderr",
     "output_type": "stream",
     "text": [
      "  4%|▌             | 2/50 [00:08<03:11,  4.00s/it]"
     ]
    },
    {
     "name": "stdout",
     "output_type": "stream",
     "text": [
      "model saved\n",
      "Epoch 2/50, Train Loss: 0.9631,           Validation Loss: 1.0334, Duration: 0:00:03.533157, Best Val Epoch: 1\n"
     ]
    },
    {
     "name": "stderr",
     "output_type": "stream",
     "text": [
      "  6%|▊             | 3/50 [00:11<02:53,  3.69s/it]"
     ]
    },
    {
     "name": "stdout",
     "output_type": "stream",
     "text": [
      "Epoch 3/50, Train Loss: 0.9120,           Validation Loss: 1.0563, Duration: 0:00:03.328179, Best Val Epoch: 1\n"
     ]
    },
    {
     "name": "stderr",
     "output_type": "stream",
     "text": [
      "  8%|█             | 4/50 [00:14<02:43,  3.55s/it]"
     ]
    },
    {
     "name": "stdout",
     "output_type": "stream",
     "text": [
      "Epoch 4/50, Train Loss: 0.8748,           Validation Loss: 1.0659, Duration: 0:00:03.332403, Best Val Epoch: 1\n"
     ]
    },
    {
     "name": "stderr",
     "output_type": "stream",
     "text": [
      " 10%|█▍            | 5/50 [00:18<02:37,  3.50s/it]"
     ]
    },
    {
     "name": "stdout",
     "output_type": "stream",
     "text": [
      "Epoch 5/50, Train Loss: 0.8395,           Validation Loss: 1.0487, Duration: 0:00:03.397638, Best Val Epoch: 1\n"
     ]
    },
    {
     "name": "stderr",
     "output_type": "stream",
     "text": [
      " 12%|█▋            | 6/50 [00:22<02:42,  3.68s/it]"
     ]
    },
    {
     "name": "stdout",
     "output_type": "stream",
     "text": [
      "model saved\n",
      "Epoch 6/50, Train Loss: 0.8014,           Validation Loss: 0.9721, Duration: 0:00:04.045537, Best Val Epoch: 5\n"
     ]
    },
    {
     "name": "stderr",
     "output_type": "stream",
     "text": [
      " 14%|█▉            | 7/50 [00:26<02:51,  3.98s/it]"
     ]
    },
    {
     "name": "stdout",
     "output_type": "stream",
     "text": [
      "Epoch 7/50, Train Loss: 0.7693,           Validation Loss: 1.0073, Duration: 0:00:04.590707, Best Val Epoch: 5\n"
     ]
    },
    {
     "name": "stderr",
     "output_type": "stream",
     "text": [
      " 16%|██▏           | 8/50 [00:31<02:52,  4.11s/it]"
     ]
    },
    {
     "name": "stdout",
     "output_type": "stream",
     "text": [
      "model saved\n",
      "Epoch 8/50, Train Loss: 0.7414,           Validation Loss: 0.9652, Duration: 0:00:04.394608, Best Val Epoch: 7\n"
     ]
    },
    {
     "name": "stderr",
     "output_type": "stream",
     "text": [
      " 18%|██▌           | 9/50 [00:35<02:55,  4.28s/it]"
     ]
    },
    {
     "name": "stdout",
     "output_type": "stream",
     "text": [
      "model saved\n",
      "Epoch 9/50, Train Loss: 0.7146,           Validation Loss: 0.9610, Duration: 0:00:04.637354, Best Val Epoch: 8\n"
     ]
    },
    {
     "name": "stderr",
     "output_type": "stream",
     "text": [
      " 20%|██▌          | 10/50 [00:40<02:55,  4.40s/it]"
     ]
    },
    {
     "name": "stdout",
     "output_type": "stream",
     "text": [
      "Epoch 10/50, Train Loss: 0.6975,           Validation Loss: 1.0015, Duration: 0:00:04.673030, Best Val Epoch: 8\n"
     ]
    },
    {
     "name": "stderr",
     "output_type": "stream",
     "text": [
      " 22%|██▊          | 11/50 [00:45<02:56,  4.53s/it]"
     ]
    },
    {
     "name": "stdout",
     "output_type": "stream",
     "text": [
      "Epoch 11/50, Train Loss: 0.6772,           Validation Loss: 1.0033, Duration: 0:00:04.831876, Best Val Epoch: 8\n"
     ]
    },
    {
     "name": "stderr",
     "output_type": "stream",
     "text": [
      " 24%|███          | 12/50 [00:49<02:52,  4.54s/it]"
     ]
    },
    {
     "name": "stdout",
     "output_type": "stream",
     "text": [
      "model saved\n",
      "Epoch 12/50, Train Loss: 0.6637,           Validation Loss: 0.9565, Duration: 0:00:04.550845, Best Val Epoch: 11\n"
     ]
    },
    {
     "name": "stderr",
     "output_type": "stream",
     "text": [
      " 26%|███▍         | 13/50 [00:54<02:48,  4.54s/it]"
     ]
    },
    {
     "name": "stdout",
     "output_type": "stream",
     "text": [
      "Epoch 13/50, Train Loss: 0.6556,           Validation Loss: 0.9697, Duration: 0:00:04.559170, Best Val Epoch: 11\n"
     ]
    },
    {
     "name": "stderr",
     "output_type": "stream",
     "text": [
      " 28%|███▋         | 14/50 [00:59<02:43,  4.55s/it]"
     ]
    },
    {
     "name": "stdout",
     "output_type": "stream",
     "text": [
      "Epoch 14/50, Train Loss: 0.6471,           Validation Loss: 1.0205, Duration: 0:00:04.555925, Best Val Epoch: 11\n"
     ]
    },
    {
     "name": "stderr",
     "output_type": "stream",
     "text": [
      " 30%|███▉         | 15/50 [01:03<02:40,  4.58s/it]"
     ]
    },
    {
     "name": "stdout",
     "output_type": "stream",
     "text": [
      "Epoch 15/50, Train Loss: 0.6419,           Validation Loss: 0.9677, Duration: 0:00:04.661602, Best Val Epoch: 11\n"
     ]
    },
    {
     "name": "stderr",
     "output_type": "stream",
     "text": [
      " 32%|████▏        | 16/50 [01:08<02:34,  4.56s/it]"
     ]
    },
    {
     "name": "stdout",
     "output_type": "stream",
     "text": [
      "Epoch 16/50, Train Loss: 0.6364,           Validation Loss: 0.9833, Duration: 0:00:04.493749, Best Val Epoch: 11\n"
     ]
    },
    {
     "name": "stderr",
     "output_type": "stream",
     "text": [
      " 34%|████▍        | 17/50 [01:12<02:29,  4.54s/it]"
     ]
    },
    {
     "name": "stdout",
     "output_type": "stream",
     "text": [
      "Epoch 17/50, Train Loss: 0.6291,           Validation Loss: 1.0325, Duration: 0:00:04.489793, Best Val Epoch: 11\n"
     ]
    },
    {
     "name": "stderr",
     "output_type": "stream",
     "text": [
      " 36%|████▋        | 18/50 [01:16<02:17,  4.29s/it]"
     ]
    },
    {
     "name": "stdout",
     "output_type": "stream",
     "text": [
      "Epoch 18/50, Train Loss: 0.6225,           Validation Loss: 0.9841, Duration: 0:00:03.699975, Best Val Epoch: 11\n"
     ]
    },
    {
     "name": "stderr",
     "output_type": "stream",
     "text": [
      " 38%|████▉        | 19/50 [01:19<02:03,  3.97s/it]"
     ]
    },
    {
     "name": "stdout",
     "output_type": "stream",
     "text": [
      "model saved\n",
      "Epoch 19/50, Train Loss: 0.6205,           Validation Loss: 0.9323, Duration: 0:00:03.246415, Best Val Epoch: 18\n"
     ]
    },
    {
     "name": "stderr",
     "output_type": "stream",
     "text": [
      " 40%|█████▏       | 20/50 [01:22<01:52,  3.75s/it]"
     ]
    },
    {
     "name": "stdout",
     "output_type": "stream",
     "text": [
      "Epoch 20/50, Train Loss: 0.6182,           Validation Loss: 0.9770, Duration: 0:00:03.212842, Best Val Epoch: 18\n"
     ]
    },
    {
     "name": "stderr",
     "output_type": "stream",
     "text": [
      " 42%|█████▍       | 21/50 [01:26<01:44,  3.59s/it]"
     ]
    },
    {
     "name": "stdout",
     "output_type": "stream",
     "text": [
      "model saved\n",
      "Epoch 21/50, Train Loss: 0.6132,           Validation Loss: 0.9171, Duration: 0:00:03.217400, Best Val Epoch: 20\n"
     ]
    },
    {
     "name": "stderr",
     "output_type": "stream",
     "text": [
      " 44%|█████▋       | 22/50 [01:29<01:37,  3.47s/it]"
     ]
    },
    {
     "name": "stdout",
     "output_type": "stream",
     "text": [
      "Epoch 22/50, Train Loss: 0.6083,           Validation Loss: 1.0346, Duration: 0:00:03.184148, Best Val Epoch: 20\n"
     ]
    },
    {
     "name": "stderr",
     "output_type": "stream",
     "text": [
      " 46%|█████▉       | 23/50 [01:32<01:31,  3.39s/it]"
     ]
    },
    {
     "name": "stdout",
     "output_type": "stream",
     "text": [
      "Epoch 23/50, Train Loss: 0.6069,           Validation Loss: 1.0042, Duration: 0:00:03.226823, Best Val Epoch: 20\n"
     ]
    },
    {
     "name": "stderr",
     "output_type": "stream",
     "text": [
      " 48%|██████▏      | 24/50 [01:35<01:26,  3.34s/it]"
     ]
    },
    {
     "name": "stdout",
     "output_type": "stream",
     "text": [
      "Epoch 24/50, Train Loss: 0.6068,           Validation Loss: 1.0222, Duration: 0:00:03.211285, Best Val Epoch: 20\n"
     ]
    },
    {
     "name": "stderr",
     "output_type": "stream",
     "text": [
      " 50%|██████▌      | 25/50 [01:38<01:22,  3.29s/it]"
     ]
    },
    {
     "name": "stdout",
     "output_type": "stream",
     "text": [
      "Epoch 25/50, Train Loss: 0.6021,           Validation Loss: 0.9566, Duration: 0:00:03.174894, Best Val Epoch: 20\n"
     ]
    },
    {
     "name": "stderr",
     "output_type": "stream",
     "text": [
      " 52%|██████▊      | 26/50 [01:42<01:18,  3.27s/it]"
     ]
    },
    {
     "name": "stdout",
     "output_type": "stream",
     "text": [
      "model saved\n",
      "Epoch 26/50, Train Loss: 0.6004,           Validation Loss: 0.9042, Duration: 0:00:03.206479, Best Val Epoch: 25\n"
     ]
    },
    {
     "name": "stderr",
     "output_type": "stream",
     "text": [
      " 54%|███████      | 27/50 [01:45<01:14,  3.25s/it]"
     ]
    },
    {
     "name": "stdout",
     "output_type": "stream",
     "text": [
      "Epoch 27/50, Train Loss: 0.5969,           Validation Loss: 1.0172, Duration: 0:00:03.204808, Best Val Epoch: 25\n"
     ]
    },
    {
     "name": "stderr",
     "output_type": "stream",
     "text": [
      " 56%|███████▎     | 28/50 [01:48<01:11,  3.25s/it]"
     ]
    },
    {
     "name": "stdout",
     "output_type": "stream",
     "text": [
      "Epoch 28/50, Train Loss: 0.5957,           Validation Loss: 0.9109, Duration: 0:00:03.247892, Best Val Epoch: 25\n"
     ]
    },
    {
     "name": "stderr",
     "output_type": "stream",
     "text": [
      " 58%|███████▌     | 29/50 [01:51<01:07,  3.23s/it]"
     ]
    },
    {
     "name": "stdout",
     "output_type": "stream",
     "text": [
      "Epoch 29/50, Train Loss: 0.5923,           Validation Loss: 0.9534, Duration: 0:00:03.181567, Best Val Epoch: 25\n"
     ]
    },
    {
     "name": "stderr",
     "output_type": "stream",
     "text": [
      " 60%|███████▊     | 30/50 [01:55<01:04,  3.23s/it]"
     ]
    },
    {
     "name": "stdout",
     "output_type": "stream",
     "text": [
      "Epoch 30/50, Train Loss: 0.5918,           Validation Loss: 0.9782, Duration: 0:00:03.226922, Best Val Epoch: 25\n"
     ]
    },
    {
     "name": "stderr",
     "output_type": "stream",
     "text": [
      " 62%|████████     | 31/50 [01:58<01:01,  3.26s/it]"
     ]
    },
    {
     "name": "stdout",
     "output_type": "stream",
     "text": [
      "Epoch 31/50, Train Loss: 0.5913,           Validation Loss: 0.9837, Duration: 0:00:03.330169, Best Val Epoch: 25\n"
     ]
    },
    {
     "name": "stderr",
     "output_type": "stream",
     "text": [
      " 64%|████████▎    | 32/50 [02:01<00:58,  3.25s/it]"
     ]
    },
    {
     "name": "stdout",
     "output_type": "stream",
     "text": [
      "model saved\n",
      "Epoch 32/50, Train Loss: 0.5883,           Validation Loss: 0.8404, Duration: 0:00:03.212463, Best Val Epoch: 31\n"
     ]
    },
    {
     "name": "stderr",
     "output_type": "stream",
     "text": [
      " 66%|████████▌    | 33/50 [02:04<00:54,  3.23s/it]"
     ]
    },
    {
     "name": "stdout",
     "output_type": "stream",
     "text": [
      "Epoch 33/50, Train Loss: 0.5882,           Validation Loss: 0.9988, Duration: 0:00:03.184099, Best Val Epoch: 31\n"
     ]
    },
    {
     "name": "stderr",
     "output_type": "stream",
     "text": [
      " 68%|████████▊    | 34/50 [02:08<00:52,  3.26s/it]"
     ]
    },
    {
     "name": "stdout",
     "output_type": "stream",
     "text": [
      "Epoch 34/50, Train Loss: 0.5867,           Validation Loss: 1.0223, Duration: 0:00:03.332647, Best Val Epoch: 31\n"
     ]
    },
    {
     "name": "stderr",
     "output_type": "stream",
     "text": [
      " 70%|█████████    | 35/50 [02:11<00:49,  3.29s/it]"
     ]
    },
    {
     "name": "stdout",
     "output_type": "stream",
     "text": [
      "Epoch 35/50, Train Loss: 0.5856,           Validation Loss: 0.9692, Duration: 0:00:03.362836, Best Val Epoch: 31\n"
     ]
    },
    {
     "name": "stderr",
     "output_type": "stream",
     "text": [
      " 72%|█████████▎   | 36/50 [02:14<00:46,  3.31s/it]"
     ]
    },
    {
     "name": "stdout",
     "output_type": "stream",
     "text": [
      "Epoch 36/50, Train Loss: 0.5877,           Validation Loss: 0.8651, Duration: 0:00:03.343065, Best Val Epoch: 31\n"
     ]
    },
    {
     "name": "stderr",
     "output_type": "stream",
     "text": [
      " 74%|█████████▌   | 37/50 [02:18<00:43,  3.38s/it]"
     ]
    },
    {
     "name": "stdout",
     "output_type": "stream",
     "text": [
      "Epoch 37/50, Train Loss: 0.5855,           Validation Loss: 0.8723, Duration: 0:00:03.565218, Best Val Epoch: 31\n"
     ]
    },
    {
     "name": "stderr",
     "output_type": "stream",
     "text": [
      " 76%|█████████▉   | 38/50 [02:21<00:40,  3.36s/it]"
     ]
    },
    {
     "name": "stdout",
     "output_type": "stream",
     "text": [
      "Epoch 38/50, Train Loss: 0.5831,           Validation Loss: 0.8624, Duration: 0:00:03.297203, Best Val Epoch: 31\n"
     ]
    },
    {
     "name": "stderr",
     "output_type": "stream",
     "text": [
      " 78%|██████████▏  | 39/50 [02:25<00:37,  3.36s/it]"
     ]
    },
    {
     "name": "stdout",
     "output_type": "stream",
     "text": [
      "Epoch 39/50, Train Loss: 0.5828,           Validation Loss: 0.9089, Duration: 0:00:03.376384, Best Val Epoch: 31\n"
     ]
    },
    {
     "name": "stderr",
     "output_type": "stream",
     "text": [
      " 80%|██████████▍  | 40/50 [02:28<00:33,  3.31s/it]"
     ]
    },
    {
     "name": "stdout",
     "output_type": "stream",
     "text": [
      "Epoch 40/50, Train Loss: 0.5820,           Validation Loss: 0.9124, Duration: 0:00:03.171552, Best Val Epoch: 31\n"
     ]
    },
    {
     "name": "stderr",
     "output_type": "stream",
     "text": [
      " 82%|██████████▋  | 41/50 [02:31<00:29,  3.28s/it]"
     ]
    },
    {
     "name": "stdout",
     "output_type": "stream",
     "text": [
      "Epoch 41/50, Train Loss: 0.5807,           Validation Loss: 1.0477, Duration: 0:00:03.206288, Best Val Epoch: 31\n"
     ]
    },
    {
     "name": "stderr",
     "output_type": "stream",
     "text": [
      " 84%|██████████▉  | 42/50 [02:34<00:26,  3.34s/it]"
     ]
    },
    {
     "name": "stdout",
     "output_type": "stream",
     "text": [
      "model saved\n",
      "Epoch 42/50, Train Loss: 0.5804,           Validation Loss: 0.8094, Duration: 0:00:03.485840, Best Val Epoch: 41\n"
     ]
    },
    {
     "name": "stderr",
     "output_type": "stream",
     "text": [
      " 86%|███████████▏ | 43/50 [02:38<00:24,  3.46s/it]"
     ]
    },
    {
     "name": "stdout",
     "output_type": "stream",
     "text": [
      "Epoch 43/50, Train Loss: 0.5787,           Validation Loss: 0.9542, Duration: 0:00:03.738918, Best Val Epoch: 41\n"
     ]
    },
    {
     "name": "stderr",
     "output_type": "stream",
     "text": [
      " 88%|███████████▍ | 44/50 [02:42<00:21,  3.53s/it]"
     ]
    },
    {
     "name": "stdout",
     "output_type": "stream",
     "text": [
      "Epoch 44/50, Train Loss: 0.5785,           Validation Loss: 1.0008, Duration: 0:00:03.681132, Best Val Epoch: 41\n"
     ]
    },
    {
     "name": "stderr",
     "output_type": "stream",
     "text": [
      " 90%|███████████▋ | 45/50 [02:45<00:17,  3.45s/it]"
     ]
    },
    {
     "name": "stdout",
     "output_type": "stream",
     "text": [
      "Epoch 45/50, Train Loss: 0.5789,           Validation Loss: 0.8442, Duration: 0:00:03.271164, Best Val Epoch: 41\n"
     ]
    },
    {
     "name": "stderr",
     "output_type": "stream",
     "text": [
      " 92%|███████████▉ | 46/50 [02:49<00:13,  3.50s/it]"
     ]
    },
    {
     "name": "stdout",
     "output_type": "stream",
     "text": [
      "Epoch 46/50, Train Loss: 0.5779,           Validation Loss: 0.9088, Duration: 0:00:03.606813, Best Val Epoch: 41\n"
     ]
    },
    {
     "name": "stderr",
     "output_type": "stream",
     "text": [
      " 94%|████████████▏| 47/50 [02:52<00:10,  3.44s/it]"
     ]
    },
    {
     "name": "stdout",
     "output_type": "stream",
     "text": [
      "Epoch 47/50, Train Loss: 0.5771,           Validation Loss: 0.9657, Duration: 0:00:03.298807, Best Val Epoch: 41\n"
     ]
    },
    {
     "name": "stderr",
     "output_type": "stream",
     "text": [
      " 96%|████████████▍| 48/50 [02:55<00:06,  3.40s/it]"
     ]
    },
    {
     "name": "stdout",
     "output_type": "stream",
     "text": [
      "Epoch 48/50, Train Loss: 0.5768,           Validation Loss: 0.9959, Duration: 0:00:03.295759, Best Val Epoch: 41\n"
     ]
    },
    {
     "name": "stderr",
     "output_type": "stream",
     "text": [
      " 98%|████████████▋| 49/50 [02:59<00:03,  3.36s/it]"
     ]
    },
    {
     "name": "stdout",
     "output_type": "stream",
     "text": [
      "Epoch 49/50, Train Loss: 0.5767,           Validation Loss: 0.8436, Duration: 0:00:03.257943, Best Val Epoch: 41\n"
     ]
    },
    {
     "name": "stderr",
     "output_type": "stream",
     "text": [
      "100%|█████████████| 50/50 [03:02<00:00,  3.65s/it]"
     ]
    },
    {
     "name": "stdout",
     "output_type": "stream",
     "text": [
      "Epoch 50/50, Train Loss: 0.5758,           Validation Loss: 0.8468, Duration: 0:00:03.292597, Best Val Epoch: 41\n"
     ]
    },
    {
     "name": "stderr",
     "output_type": "stream",
     "text": [
      "\n"
     ]
    }
   ],
   "source": [
    "train_losses, val_losses = batch_gd(model, criterion, optimizer, \n",
    "                                    train_loader, val_loader, epochs=50)"
   ]
  },
  {
   "cell_type": "code",
   "execution_count": 54,
   "id": "cdf77edd-c710-4f4f-9589-4eb67a945f1c",
   "metadata": {},
   "outputs": [
    {
     "data": {
      "text/plain": [
       "<matplotlib.legend.Legend at 0x21e6a2dd0>"
      ]
     },
     "execution_count": 54,
     "metadata": {},
     "output_type": "execute_result"
    },
    {
     "data": {
      "image/png": "[encoded data removed]",
      "text/plain": [
       "<Figure size 1500x600 with 1 Axes>"
      ]
     },
     "metadata": {},
     "output_type": "display_data"
    }
   ],
   "source": [
    "plt.figure(figsize=(15,6))\n",
    "plt.plot(train_losses, label='train loss')\n",
    "plt.plot(val_losses, label='validation loss')\n",
    "plt.legend()"
   ]
  },
  {
   "cell_type": "markdown",
   "id": "7fcc4be3-cc95-4b3c-a1cf-3586e7c3b3cf",
   "metadata": {},
   "source": [
    "Model Testing"
   ]
  },
  {
   "cell_type": "code",
   "execution_count": 55,
   "id": "c2c43249-e4e6-4ebd-a953-2fb80c10af6d",
   "metadata": {},
   "outputs": [
    {
     "name": "stdout",
     "output_type": "stream",
     "text": [
      "Test acc: 0.5500\n"
     ]
    }
   ],
   "source": [
    "model = torch.load('best_val_model_pytorch')\n",
    "\n",
    "n_correct = 0.\n",
    "n_total = 0.\n",
    "for inputs, targets in test_loader:\n",
    "    # Move to GPU\n",
    "    inputs, targets = inputs.to(device, dtype=torch.float), targets.to(device, dtype=torch.int64)\n",
    "\n",
    "    # Forward pass\n",
    "    outputs = model(inputs)\n",
    "    \n",
    "    # Get prediction\n",
    "    # torch.max returns both max and argmax\n",
    "    _, predictions = torch.max(outputs, 1)\n",
    "\n",
    "    # update counts\n",
    "    n_correct += (predictions == targets).sum().item()\n",
    "    n_total += targets.shape[0]\n",
    "\n",
    "test_acc = n_correct / n_total\n",
    "print(f\"Test acc: {test_acc:.4f}\")"
   ]
  },
  {
   "cell_type": "code",
   "execution_count": 56,
   "id": "e2bf84c6-baba-4739-905a-e80c71d58585",
   "metadata": {},
   "outputs": [],
   "source": [
    "# model = torch.load('best_val_model_pytorch')\n",
    "all_targets = []\n",
    "all_predictions = []\n",
    "\n",
    "for inputs, targets in test_loader:\n",
    "    # Move to GPU\n",
    "    inputs, targets = inputs.to(device, dtype=torch.float), targets.to(device, dtype=torch.int64)\n",
    "\n",
    "    # Forward pass\n",
    "    outputs = model(inputs)\n",
    "    \n",
    "    # Get prediction\n",
    "    # torch.max returns both max and argmax\n",
    "    _, predictions = torch.max(outputs, 1)\n",
    "\n",
    "    all_targets.append(targets.cpu().numpy())\n",
    "    all_predictions.append(predictions.cpu().numpy())\n",
    "\n",
    "all_targets = np.concatenate(all_targets)    \n",
    "all_predictions = np.concatenate(all_predictions)    "
   ]
  },
  {
   "cell_type": "code",
   "execution_count": 57,
   "id": "b7d0da7b-ee40-48e0-9c97-066b4dc3505f",
   "metadata": {},
   "outputs": [
    {
     "name": "stdout",
     "output_type": "stream",
     "text": [
      "accuracy_score: 0.55\n",
      "              precision    recall  f1-score   support\n",
      "\n",
      "           0     0.6667    0.1538    0.2500        26\n",
      "           1     0.0000    0.0000    0.0000         3\n",
      "           2     0.5370    0.9355    0.6824        31\n",
      "\n",
      "    accuracy                         0.5500        60\n",
      "   macro avg     0.4012    0.3631    0.3108        60\n",
      "weighted avg     0.5664    0.5500    0.4609        60\n",
      "\n"
     ]
    },
    {
     "name": "stderr",
     "output_type": "stream",
     "text": [
      "/Users/lydiali/opt/anaconda3/envs/stock/lib/python3.11/site-packages/sklearn/metrics/_classification.py:1565: UndefinedMetricWarning: Precision is ill-defined and being set to 0.0 in labels with no predicted samples. Use `zero_division` parameter to control this behavior.\n",
      "  _warn_prf(average, modifier, f\"{metric.capitalize()} is\", len(result))\n",
      "/Users/lydiali/opt/anaconda3/envs/stock/lib/python3.11/site-packages/sklearn/metrics/_classification.py:1565: UndefinedMetricWarning: Precision is ill-defined and being set to 0.0 in labels with no predicted samples. Use `zero_division` parameter to control this behavior.\n",
      "  _warn_prf(average, modifier, f\"{metric.capitalize()} is\", len(result))\n",
      "/Users/lydiali/opt/anaconda3/envs/stock/lib/python3.11/site-packages/sklearn/metrics/_classification.py:1565: UndefinedMetricWarning: Precision is ill-defined and being set to 0.0 in labels with no predicted samples. Use `zero_division` parameter to control this behavior.\n",
      "  _warn_prf(average, modifier, f\"{metric.capitalize()} is\", len(result))\n"
     ]
    }
   ],
   "source": [
    "print('accuracy_score:', accuracy_score(all_targets, all_predictions))\n",
    "print(classification_report(all_targets, all_predictions, digits=4))"
   ]
  },
  {
   "cell_type": "code",
   "execution_count": null,
   "id": "44decf8b-650d-494f-b370-17c5ced7ac3b",
   "metadata": {},
   "outputs": [],
   "source": []
  }
 ],
 "metadata": {
  "kernelspec": {
   "display_name": "Python 3 (ipykernel)",
   "language": "python",
   "name": "python3"
  },
  "language_info": {
   "codemirror_mode": {
    "name": "ipython",
    "version": 3
   },
   "file_extension": ".py",
   "mimetype": "text/x-python",
   "name": "python",
   "nbconvert_exporter": "python",
   "pygments_lexer": "ipython3",
   "version": "3.9.7"
  }
 },
 "nbformat": 4,
 "nbformat_minor": 5
}
